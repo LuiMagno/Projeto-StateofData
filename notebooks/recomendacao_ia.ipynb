{
 "cells": [
  {
   "cell_type": "code",
   "execution_count": null,
   "id": "63339393",
   "metadata": {},
   "outputs": [],
   "source": [
    "import sys\n",
    "import os\n",
    "sys.path.append(os.path.abspath(\"..\"))\n",
    "\n",
    "from utils.limpeza import carregar_dados\n",
    "from utils.filtros import aplicar_filtros\n",
    "from app.recomendador import RecomendadorRH\n",
    "from app.modelo_llm import gerar_recomendacao_llm\n",
    "\n",
    "import pandas as pd\n"
   ]
  },
  {
   "cell_type": "code",
   "execution_count": null,
   "id": "26a16955",
   "metadata": {},
   "outputs": [],
   "source": [
    "# Carrega os dados da pesquisa\n",
    "df = carregar_dados()\n",
    "df.shape\n"
   ]
  },
  {
   "cell_type": "code",
   "execution_count": null,
   "id": "7e8f748e",
   "metadata": {},
   "outputs": [],
   "source": [
    "# Aplica filtros definidos\n",
    "import pandas as pd\n",
    "filtros = {\n",
    "    \"cargo_geral\": \"analista\",\n",
    "    \"senioridade\": \"Pleno\",\n",
    "    \"linguagens_programacao\": [\"Python\", \"SQL\"],\n",
    "    \"clouds\": [\"Google Cloud (GCP)\"]\n",
    "}\n",
    "\n",
    "df_filtrado = aplicar_filtros(df, filtros)\n",
    "print(f\"Candidatos encontrados: {len(df_filtrado)}\")\n",
    "df_filtrado[[\n",
    "    \"2.f_cargo_atual\", \"2.g_nivel\", \"2.k_satisfeito_atualmente\",\n",
    "    \"4.d.3_Python\", \"4.d.1_SQL\", \"4.h.2_Google Cloud (GCP)\"\n",
    "]].head()\n"
   ]
  },
  {
   "cell_type": "code",
   "execution_count": null,
   "id": "be0b1eb0",
   "metadata": {},
   "outputs": [],
   "source": [
    "# Seleciona o primeiro candidato filtrado\n",
    "candidato = df_filtrado.iloc[0]\n",
    "\n",
    "# Converte para dicionário de perfil\n",
    "perfil_dict = candidato.to_dict()\n"
   ]
  },
  {
   "cell_type": "code",
   "execution_count": null,
   "id": "e6a3e677",
   "metadata": {},
   "outputs": [],
   "source": [
    "# Gera recomendação com modelo LLM\n",
    "resposta_llm = gerar_recomendacao_llm(perfil_dict)\n",
    "\n",
    "print(\"📋 Recomendação com LLM:\")\n",
    "print(resposta_llm)\n"
   ]
  },
  {
   "cell_type": "markdown",
   "id": "e73c394c",
   "metadata": {},
   "source": [
    "## teste 2"
   ]
  },
  {
   "cell_type": "code",
   "execution_count": 1,
   "id": "11a6b894",
   "metadata": {},
   "outputs": [],
   "source": [
    "import sys, os\n",
    "sys.path.append(os.path.abspath(\"..\"))\n",
    "\n",
    "import pandas as pd\n",
    "from utils.limpeza import carregar_dados\n",
    "from utils.seletores import selecionar_colunas_recomendador\n",
    "from app.recomendador import RecomendadorRH\n"
   ]
  },
  {
   "cell_type": "code",
   "execution_count": 2,
   "id": "d5db8bb9",
   "metadata": {},
   "outputs": [
    {
     "name": "stdout",
     "output_type": "stream",
     "text": [
      "[INFO] Dados carregados com sucesso: 5217 linhas e 403 colunas.\n"
     ]
    }
   ],
   "source": [
    "# Carrega o dataset completo e seleciona as colunas relevantes\n",
    "df = carregar_dados()\n",
    "df_selecionado = selecionar_colunas_recomendador(df)\n"
   ]
  },
  {
   "cell_type": "code",
   "execution_count": null,
   "id": "1e36921e",
   "metadata": {},
   "outputs": [
    {
     "name": "stdout",
     "output_type": "stream",
     "text": [
      "\n",
      "[LOG] Aplicando filtros com interseção (AND):\n",
      "✅ Cargo geral 'cientista': 913 matches\n",
      "🔍 Processando filtro simples: experiencia_dados\n",
      "✅ 0 matches em 2.i_tempo_de_experiencia_em_dados\n",
      "\n",
      "🎯 Total de candidatos qualificados (todos critérios): 0\n"
     ]
    },
    {
     "data": {
      "text/html": [
       "<div>\n",
       "<style scoped>\n",
       "    .dataframe tbody tr th:only-of-type {\n",
       "        vertical-align: middle;\n",
       "    }\n",
       "\n",
       "    .dataframe tbody tr th {\n",
       "        vertical-align: top;\n",
       "    }\n",
       "\n",
       "    .dataframe thead th {\n",
       "        text-align: right;\n",
       "    }\n",
       "</style>\n",
       "<table border=\"1\" class=\"dataframe\">\n",
       "  <thead>\n",
       "    <tr style=\"text-align: right;\">\n",
       "      <th></th>\n",
       "      <th>0.a_token</th>\n",
       "      <th>1.b_genero</th>\n",
       "      <th>1.c_cor/raca/etnia</th>\n",
       "      <th>1.d_pcd</th>\n",
       "      <th>1.g_vive_no_brasil</th>\n",
       "      <th>1.h_pais_onde_mora</th>\n",
       "      <th>1.i_estado_onde_mora</th>\n",
       "      <th>1.l_nivel_de_ensino</th>\n",
       "      <th>1.m_área_de_formação</th>\n",
       "      <th>2.a_situação_de_trabalho</th>\n",
       "      <th>...</th>\n",
       "      <th>8.c.2_Planilhas (Excel, Google Sheets etc).</th>\n",
       "      <th>8.c.3_Ambientes de desenvolvimento local (R-studio, JupyterLab, Anaconda).</th>\n",
       "      <th>8.c.4_Ambientes de desenvolvimento na nuvem (Google Colab, AWS Sagemaker, Kaggle Notebooks etc).</th>\n",
       "      <th>8.c.5_Ferramentas de AutoML (Datarobot, H2O, Auto-Keras etc).</th>\n",
       "      <th>8.c.6_Ferramentas de ETL (Apache Airflow, NiFi, Stitch, Fivetran, Pentaho etc).</th>\n",
       "      <th>8.c.7_Plataformas de Machine Learning (TensorFlow, Azure Machine Learning, Kubeflow etc).</th>\n",
       "      <th>8.c.8_Feature Store (Feast, Hopsworks, AWS Feature Store, Databricks Feature Store etc).</th>\n",
       "      <th>8.c.9_Sistemas de controle de versão (Github, DVC, Neptune, Gitlab etc).</th>\n",
       "      <th>8.c.10_Plataformas de Data Apps (Streamlit, Shiny, Plotly Dash etc).</th>\n",
       "      <th>8.c.11_Ferramentas de estatística avançada como SPSS, SAS, etc.</th>\n",
       "    </tr>\n",
       "  </thead>\n",
       "  <tbody>\n",
       "  </tbody>\n",
       "</table>\n",
       "<p>0 rows × 231 columns</p>\n",
       "</div>"
      ],
      "text/plain": [
       "Empty DataFrame\n",
       "Columns: [0.a_token, 1.b_genero, 1.c_cor/raca/etnia, 1.d_pcd, 1.g_vive_no_brasil, 1.h_pais_onde_mora, 1.i_estado_onde_mora, 1.l_nivel_de_ensino, 1.m_área_de_formação, 2.a_situação_de_trabalho, 2.d_atua_como_gestor, 2.e_cargo_como_gestor, 2.f_cargo_atual, 2.g_nivel, 2.h_faixa_salarial, 2.i_tempo_de_experiencia_em_dados, 2.j_tempo_de_experiencia_em_ti, 2.s_modelo_de_trabalho_ideal, 2.t_atitude_em_caso_de_retorno_presencial, 2.r_modelo_de_trabalho_atual, 3.c_responsabilidades_como_gestor, 3.d_desafios_como_gestor, 4.a_funcao_de_atuacao, 4.a.1_atuacao_em_dados, 4.b_fontes_de_dados_(dia_a_dia), 4.b.1_Dados relacionais (estruturados em bancos SQL), 4.b.2_Dados armazenados em bancos NoSQL, 4.b.3_Imagens, 4.b.4_Textos/Documentos, 4.b.5_Vídeos, 4.b.6_Áudios, 4.b.7_Planilhas, 4.b.8_Dados georeferenciados, 4.c_fonte_de_dado_mais_usada, 4.c.1_Dados relacionais (estruturados em bancos SQL), 4.c.2_Dados armazenados em bancos NoSQL, 4.c.3_Imagens, 4.c.4_Textos/Documentos, 4.c.5_Vídeos, 4.c.6_Áudios, 4.c.7_Planilhas, 4.c.8_Dados georeferenciados, 4.d_linguagem_de_programacao_(dia_a_dia), 4.d.1_SQL, 4.d.2_R, 4.d.3_Python, 4.d.4_C/C++/C#, 4.d.5_.NET, 4.d.6_Java, 4.d.7_Julia, 4.d.8_SAS/Stata, 4.d.9_Visual Basic/VBA, 4.d.10_Scala, 4.d.11_Matlab, 4.d.12_Rust, 4.d.13_PHP, 4.d.14_JavaScript, 4.d.15_Não utilizo nenhuma das linguagens listadas, 4.g_banco_de_dados_(dia_a_dia), 4.g.1_MySQL, 4.g.2_Oracle, 4.g.3_SQL SERVER, 4.g.4_Amazon Aurora ou RDS, 4.g.5_DynamoDB, 4.g.6_CoachDB, 4.g.7_Cassandra, 4.g.8_MongoDB, 4.g.9_MariaDB, 4.g.10_Datomic, 4.g.11_S3, 4.g.12_PostgreSQL, 4.g.13_ElasticSearch, 4.g.14_DB2, 4.g.15_Microsoft Access, 4.g.16_SQLite, 4.g.17_Sybase, 4.g.18_Firebase, 4.g.19_Vertica, 4.g.20_Redis, 4.g.21_Neo4J, 4.g.22_Google BigQuery, 4.g.23_Google Firestore, 4.g.24_Amazon Redshift, 4.g.25_Amazon Athena, 4.g.26_Snowflake, 4.g.27_Databricks, 4.g.28_HBase, 4.g.29_Presto, 4.g.30_Splunk, 4.g.31_SAP HANA, 4.g.32_Hive, 4.g.33_Firebird, 4.h_cloud_(dia_a_dia), 4.h.1_Amazon Web Services (AWS), 4.h.2_Google Cloud (GCP), 4.h.3_Azure (Microsoft), 4.h.4_Oracle Cloud, 4.h.5_IBM, 4.h.6_Servidores On Premise/Não utilizamos Cloud, 4.h.7_Cloud Própria, ...]\n",
       "Index: []\n",
       "\n",
       "[0 rows x 231 columns]"
      ]
     },
     "execution_count": 5,
     "metadata": {},
     "output_type": "execute_result"
    }
   ],
   "source": [
    "reco = RecomendadorRH(df_selecionado)\n",
    "\n",
    "# Filtros podem ser aplicados se quiser restringir o universo\n",
    "criterios = {\n",
    "    \"cargo_geral\": \"cientista\",\n",
    "    \"modelo_trabalho_ideal\": \"Remoto\",\n",
    "    \"experiencia_dados\": \"SQL\"\n",
    "}\n",
    "df_filtrados = reco.aplicar_filtros(criterios)\n",
    "df_filtrados.head(3)\n"
   ]
  },
  {
   "cell_type": "code",
   "execution_count": null,
   "id": "6f5f38f2",
   "metadata": {},
   "outputs": [],
   "source": [
    "vaga_exemplo = {\n",
    "    \"2.f_cargo_atual\": \"Cientista de Dados\",\n",
    "    \"2.g_nivel\": \"Pleno\",\n",
    "    \"2.i_tempo_de_experiencia_em_dados\": \"de 3 a 4 anos\",\n",
    "    \"2.j_tempo_de_experiencia_em_ti\": \"de 5 a 6 anos\",\n",
    "    \"4.d.1_SQL\": 1,\n",
    "    \"4.d.3_Python\": 1,\n",
    "    \"4.h.1_Amazon Web Services (AWS)\": 1,\n",
    "    \"2.s_modelo_de_trabalho_ideal\": \"Remoto\"\n",
    "}\n"
   ]
  },
  {
   "cell_type": "code",
   "execution_count": null,
   "id": "fa2d3809",
   "metadata": {},
   "outputs": [],
   "source": [
    "print(f\"Total de candidatos após filtro: {len(reco.df_filtrado)}\")\n"
   ]
  },
  {
   "cell_type": "code",
   "execution_count": null,
   "id": "9c109e73",
   "metadata": {},
   "outputs": [],
   "source": [
    "reco.criar_vetor_vaga(vaga_exemplo)\n"
   ]
  },
  {
   "cell_type": "code",
   "execution_count": null,
   "id": "023bc80f",
   "metadata": {},
   "outputs": [],
   "source": [
    "print(\"🔍 Shape vetor candidatos:\", reco.df_vetores.shape)\n",
    "print(\"🔍 Shape vetor vaga:\", reco.vetor_vaga.shape)\n",
    "print(\"🔍 Colunas comuns:\", set(reco.df_vetores.columns) & set(reco.vetor_vaga.columns))\n"
   ]
  },
  {
   "cell_type": "code",
   "execution_count": null,
   "id": "ad5d20b5",
   "metadata": {},
   "outputs": [],
   "source": [
    "reco.criar_vetor_vaga(vaga_exemplo)\n",
    "df_ranqueado = reco.calcular_similaridade()\n"
   ]
  },
  {
   "cell_type": "code",
   "execution_count": null,
   "id": "4f4b2289",
   "metadata": {},
   "outputs": [],
   "source": [
    "reco.top_n(5)\n"
   ]
  }
 ],
 "metadata": {
  "kernelspec": {
   "display_name": "Python 3",
   "language": "python",
   "name": "python3"
  },
  "language_info": {
   "codemirror_mode": {
    "name": "ipython",
    "version": 3
   },
   "file_extension": ".py",
   "mimetype": "text/x-python",
   "name": "python",
   "nbconvert_exporter": "python",
   "pygments_lexer": "ipython3",
   "version": "3.13.0"
  }
 },
 "nbformat": 4,
 "nbformat_minor": 5
}
